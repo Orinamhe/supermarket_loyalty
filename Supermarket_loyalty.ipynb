{
 "cells": [
  {
   "cell_type": "markdown",
   "id": "53719530-533b-4992-ba8e-5e65b2bf3851",
   "metadata": {},
   "source": [
    "## <center>SUPERMARKET LOYALTY <center>"
   ]
  },
  {
   "cell_type": "markdown",
   "id": "2c21b5af-6654-467f-8a21-7cab3af60d1c",
   "metadata": {},
   "source": [
    "#### The dataset contains records of customers for their last full year of a loyalty program. Analysis on this data was done using Pandas, with visualisations done using Matplotlib"
   ]
  },
  {
   "cell_type": "code",
   "execution_count": 76,
   "id": "e8f9ac9f-a088-4e8a-adc8-b7a1b2a529cb",
   "metadata": {},
   "outputs": [],
   "source": [
    "import pandas as pd\n",
    "import matplotlib.pyplot as plt\n",
    "import seaborn as sns"
   ]
  },
  {
   "cell_type": "code",
   "execution_count": 77,
   "id": "eb4d793f-a186-4d88-b400-5d00a02e639c",
   "metadata": {},
   "outputs": [],
   "source": [
    "loyalty = pd.read_csv(\"/Users/Oriscsson/Downloads/loyalty.csv\")"
   ]
  },
  {
   "cell_type": "code",
   "execution_count": 78,
   "id": "6277f189-ed14-4bdf-b1e1-ff24430f311b",
   "metadata": {},
   "outputs": [
    {
     "data": {
      "text/html": [
       "<div>\n",
       "<style scoped>\n",
       "    .dataframe tbody tr th:only-of-type {\n",
       "        vertical-align: middle;\n",
       "    }\n",
       "\n",
       "    .dataframe tbody tr th {\n",
       "        vertical-align: top;\n",
       "    }\n",
       "\n",
       "    .dataframe thead th {\n",
       "        text-align: right;\n",
       "    }\n",
       "</style>\n",
       "<table border=\"1\" class=\"dataframe\">\n",
       "  <thead>\n",
       "    <tr style=\"text-align: right;\">\n",
       "      <th></th>\n",
       "      <th>customer_id</th>\n",
       "      <th>spend</th>\n",
       "      <th>first_month</th>\n",
       "      <th>items_in_first_month</th>\n",
       "      <th>region</th>\n",
       "      <th>loyalty_years</th>\n",
       "      <th>joining_month</th>\n",
       "      <th>promotion</th>\n",
       "    </tr>\n",
       "  </thead>\n",
       "  <tbody>\n",
       "    <tr>\n",
       "      <th>0</th>\n",
       "      <td>1</td>\n",
       "      <td>132.68</td>\n",
       "      <td>15.3</td>\n",
       "      <td>5</td>\n",
       "      <td>Asia/Pacific</td>\n",
       "      <td>5-10</td>\n",
       "      <td>Nov</td>\n",
       "      <td>No</td>\n",
       "    </tr>\n",
       "    <tr>\n",
       "      <th>1</th>\n",
       "      <td>2</td>\n",
       "      <td>106.45</td>\n",
       "      <td>16.2</td>\n",
       "      <td>14</td>\n",
       "      <td>Asia/Pacific</td>\n",
       "      <td>0-1</td>\n",
       "      <td>Feb</td>\n",
       "      <td>Yes</td>\n",
       "    </tr>\n",
       "    <tr>\n",
       "      <th>2</th>\n",
       "      <td>3</td>\n",
       "      <td>123.16</td>\n",
       "      <td>25.26</td>\n",
       "      <td>7</td>\n",
       "      <td>Middle East/Africa</td>\n",
       "      <td>10+</td>\n",
       "      <td>Dec</td>\n",
       "      <td>Yes</td>\n",
       "    </tr>\n",
       "    <tr>\n",
       "      <th>3</th>\n",
       "      <td>4</td>\n",
       "      <td>130.60</td>\n",
       "      <td>24.74</td>\n",
       "      <td>8</td>\n",
       "      <td>Middle East/Africa</td>\n",
       "      <td>3-5</td>\n",
       "      <td>Apr</td>\n",
       "      <td>No</td>\n",
       "    </tr>\n",
       "    <tr>\n",
       "      <th>4</th>\n",
       "      <td>5</td>\n",
       "      <td>130.41</td>\n",
       "      <td>25.59</td>\n",
       "      <td>8</td>\n",
       "      <td>Middle East/Africa</td>\n",
       "      <td>3-5</td>\n",
       "      <td>Apr</td>\n",
       "      <td>Yes</td>\n",
       "    </tr>\n",
       "  </tbody>\n",
       "</table>\n",
       "</div>"
      ],
      "text/plain": [
       "   customer_id   spend first_month  items_in_first_month              region  \\\n",
       "0            1  132.68        15.3                     5        Asia/Pacific   \n",
       "1            2  106.45        16.2                    14        Asia/Pacific   \n",
       "2            3  123.16       25.26                     7  Middle East/Africa   \n",
       "3            4  130.60       24.74                     8  Middle East/Africa   \n",
       "4            5  130.41       25.59                     8  Middle East/Africa   \n",
       "\n",
       "  loyalty_years joining_month promotion  \n",
       "0          5-10           Nov        No  \n",
       "1           0-1           Feb       Yes  \n",
       "2           10+           Dec       Yes  \n",
       "3           3-5           Apr        No  \n",
       "4           3-5           Apr       Yes  "
      ]
     },
     "execution_count": 78,
     "metadata": {},
     "output_type": "execute_result"
    }
   ],
   "source": [
    "loyalty.head()"
   ]
  },
  {
   "cell_type": "code",
   "execution_count": 79,
   "id": "304b5764-5925-4c30-a83e-52a2d19c9454",
   "metadata": {},
   "outputs": [
    {
     "data": {
      "text/plain": [
       "(1246, 8)"
      ]
     },
     "execution_count": 79,
     "metadata": {},
     "output_type": "execute_result"
    }
   ],
   "source": [
    "loyalty.shape"
   ]
  },
  {
   "cell_type": "code",
   "execution_count": 80,
   "id": "3316ea28-d07f-4ae1-b918-4c81c3df433d",
   "metadata": {},
   "outputs": [
    {
     "name": "stdout",
     "output_type": "stream",
     "text": [
      "<class 'pandas.core.frame.DataFrame'>\n",
      "RangeIndex: 1246 entries, 0 to 1245\n",
      "Data columns (total 8 columns):\n",
      " #   Column                Non-Null Count  Dtype  \n",
      "---  ------                --------------  -----  \n",
      " 0   customer_id           1246 non-null   int64  \n",
      " 1   spend                 1246 non-null   float64\n",
      " 2   first_month           1246 non-null   object \n",
      " 3   items_in_first_month  1246 non-null   int64  \n",
      " 4   region                1246 non-null   object \n",
      " 5   loyalty_years         1246 non-null   object \n",
      " 6   joining_month         1121 non-null   object \n",
      " 7   promotion             1246 non-null   object \n",
      "dtypes: float64(1), int64(2), object(5)\n",
      "memory usage: 78.0+ KB\n"
     ]
    }
   ],
   "source": [
    "# To get a summary of the dataset, including the number of rows & columns, data type in each column, and null/non-null count\n",
    "loyalty.info()"
   ]
  },
  {
   "cell_type": "markdown",
   "id": "30f79187-fe4f-447d-bd59-dc9018b41287",
   "metadata": {},
   "source": [
    "## Data cleaning"
   ]
  },
  {
   "cell_type": "code",
   "execution_count": 82,
   "id": "e3d3d586-ac61-446a-9ac7-a1dd53cc7bc9",
   "metadata": {},
   "outputs": [
    {
     "data": {
      "text/plain": [
       "0"
      ]
     },
     "execution_count": 82,
     "metadata": {},
     "output_type": "execute_result"
    }
   ],
   "source": [
    "# To check if any row is duplicated.\n",
    "loyalty.duplicated().sum()"
   ]
  },
  {
   "cell_type": "code",
   "execution_count": 83,
   "id": "69e35ff5-f692-4c8d-b8f4-e3b29b80ceed",
   "metadata": {},
   "outputs": [
    {
     "data": {
      "text/plain": [
       "joining_month    125\n",
       "dtype: int64"
      ]
     },
     "execution_count": 83,
     "metadata": {},
     "output_type": "execute_result"
    }
   ],
   "source": [
    "# To see what columns has null values.\n",
    "loyalty.isnull().sum()[loyalty.isnull().sum() > 0]"
   ]
  },
  {
   "cell_type": "markdown",
   "id": "3a086db9-c44d-4672-b51d-15d31b04e683",
   "metadata": {},
   "source": [
    "#### Joining_month has 125 null values. According to data dictionary, these will be replaced by \"Unknown\""
   ]
  },
  {
   "cell_type": "code",
   "execution_count": 85,
   "id": "40928fc2-7cb6-4e88-b65b-934756d48cdb",
   "metadata": {},
   "outputs": [],
   "source": [
    "# Filling the null values in the joining month with \"Unknown\"\n",
    "loyalty.joining_month = loyalty.joining_month.fillna(\"Unknown\")"
   ]
  },
  {
   "cell_type": "code",
   "execution_count": 86,
   "id": "942dcde0-46ca-41f8-89e1-26b10c927b73",
   "metadata": {},
   "outputs": [
    {
     "data": {
      "text/plain": [
       "array(['Nov', 'Feb', 'Dec', 'Apr', 'May', 'Unknown', 'Jul', 'Oct', 'Jan',\n",
       "       'Sep', 'Mar', 'Jun', 'Aug'], dtype=object)"
      ]
     },
     "execution_count": 86,
     "metadata": {},
     "output_type": "execute_result"
    }
   ],
   "source": [
    "loyalty.joining_month.unique()"
   ]
  },
  {
   "cell_type": "code",
   "execution_count": 87,
   "id": "cec97171-7f00-4beb-b9f2-54dbface0d68",
   "metadata": {},
   "outputs": [],
   "source": [
    "# to change the data type of the first_month from object to float/int, in order to perform arithmetic operations.\n",
    "\n",
    "loyalty.first_month = loyalty.first_month.replace(\".\", \"0\") # this could also be resolved using loyalty.first_month.replace(\".\", \"0\", inplace = True)\n",
    "loyalty.first_month = loyalty.first_month.astype(\"float\")"
   ]
  },
  {
   "cell_type": "markdown",
   "id": "ed2cf95b-0758-4444-bd84-35d4869891f0",
   "metadata": {},
   "source": [
    "#### In the first_month column, the \".\" found was replaced by 0 as suggested. Only then was it possible to change the data type in the column to numeric to perform arithmetic operations"
   ]
  },
  {
   "cell_type": "code",
   "execution_count": 89,
   "id": "14bafbe5-2ba9-4990-8a07-7276d2fae7b9",
   "metadata": {},
   "outputs": [
    {
     "data": {
      "text/plain": [
       "array(['No', 'Yes', 'NO', 'YES'], dtype=object)"
      ]
     },
     "execution_count": 89,
     "metadata": {},
     "output_type": "execute_result"
    }
   ],
   "source": [
    "# Resolving the case of the values in the Promotion column\n",
    "\n",
    "loyalty.promotion.unique()"
   ]
  },
  {
   "cell_type": "code",
   "execution_count": 90,
   "id": "96870f06-766b-4503-b665-44b61f39473b",
   "metadata": {},
   "outputs": [],
   "source": [
    "# The case was changed to a title case.\n",
    "\n",
    "loyalty.promotion = loyalty.promotion.replace({\"NO\":\"No\", \"YES\":\"Yes\"})"
   ]
  },
  {
   "cell_type": "code",
   "execution_count": 91,
   "id": "5e965d4d-9757-4a76-8cb7-93a930510452",
   "metadata": {},
   "outputs": [
    {
     "name": "stdout",
     "output_type": "stream",
     "text": [
      "<class 'pandas.core.frame.DataFrame'>\n",
      "RangeIndex: 1246 entries, 0 to 1245\n",
      "Data columns (total 8 columns):\n",
      " #   Column                Non-Null Count  Dtype  \n",
      "---  ------                --------------  -----  \n",
      " 0   customer_id           1246 non-null   int64  \n",
      " 1   spend                 1246 non-null   float64\n",
      " 2   first_month           1246 non-null   float64\n",
      " 3   items_in_first_month  1246 non-null   int64  \n",
      " 4   region                1246 non-null   object \n",
      " 5   loyalty_years         1246 non-null   object \n",
      " 6   joining_month         1246 non-null   object \n",
      " 7   promotion             1246 non-null   object \n",
      "dtypes: float64(2), int64(2), object(4)\n",
      "memory usage: 78.0+ KB\n"
     ]
    }
   ],
   "source": [
    "loyalty.info()"
   ]
  },
  {
   "cell_type": "markdown",
   "id": "b470d4ae-4ae5-498f-bb4d-540bd037da67",
   "metadata": {},
   "source": [
    "#### Once data cleaning was completed, a copy of this table was made for exploratory data analysis to generate insightes that will guide the supermarket chain in preparing rewards for shoppers, geared at retaining and possibly attracting new customers"
   ]
  },
  {
   "cell_type": "code",
   "execution_count": 93,
   "id": "c4251b38-a5b7-4dfc-991c-eefac319a778",
   "metadata": {},
   "outputs": [],
   "source": [
    "loyalty_df = loyalty.copy()"
   ]
  },
  {
   "cell_type": "markdown",
   "id": "ca658a47-035b-4e78-af25-e3d952261367",
   "metadata": {},
   "source": [
    "## Exploratory Data Analysis"
   ]
  },
  {
   "cell_type": "markdown",
   "id": "b674a28f-d33e-4b08-81d4-73c681da0531",
   "metadata": {},
   "source": [
    "### Customer spending"
   ]
  },
  {
   "cell_type": "code",
   "execution_count": 96,
   "id": "7d3161ad-419d-4000-9151-9046f8390784",
   "metadata": {},
   "outputs": [
    {
     "data": {
      "text/plain": [
       "count    1246.000000\n",
       "mean      122.637119\n",
       "std         9.975102\n",
       "min       104.290000\n",
       "25%       112.210000\n",
       "50%       123.840000\n",
       "75%       131.092500\n",
       "max       142.290000\n",
       "Name: spend, dtype: float64"
      ]
     },
     "execution_count": 96,
     "metadata": {},
     "output_type": "execute_result"
    }
   ],
   "source": [
    "# To get information on the spending behaviour in the supermarket for the full year, including the average, minimum and maximum, etc.\n",
    "loyalty_df.spend.describe()"
   ]
  },
  {
   "cell_type": "code",
   "execution_count": 97,
   "id": "0ef4b3df-2dcf-463a-b93d-374b8e910432",
   "metadata": {},
   "outputs": [
    {
     "data": {
      "text/plain": [
       "customer_id\n",
       "975    142.29\n",
       "54     142.01\n",
       "973    141.92\n",
       "28     141.85\n",
       "729    141.82\n",
       "304    141.81\n",
       "40     141.75\n",
       "813    141.74\n",
       "526    141.69\n",
       "475    141.52\n",
       "Name: spend, dtype: float64"
      ]
     },
     "execution_count": 97,
     "metadata": {},
     "output_type": "execute_result"
    }
   ],
   "source": [
    "# To get the 10 top spending customers for the last full year\n",
    "\n",
    "loyalty_df.groupby('customer_id')['spend'].max().sort_values(ascending = False).nlargest(10)"
   ]
  },
  {
   "cell_type": "markdown",
   "id": "c3b23be9-e4ef-48b7-9298-066031962cc1",
   "metadata": {},
   "source": [
    "#### The 10 top spenders at International Essentials spent above $140 in total during the last year. Identifying top spending customers in the calendar year will aid in preparing rewards."
   ]
  },
  {
   "cell_type": "code",
   "execution_count": 99,
   "id": "38e5d1c3-907e-494a-9a9a-6cb78398484b",
   "metadata": {},
   "outputs": [
    {
     "data": {
      "text/html": [
       "<div>\n",
       "<style scoped>\n",
       "    .dataframe tbody tr th:only-of-type {\n",
       "        vertical-align: middle;\n",
       "    }\n",
       "\n",
       "    .dataframe tbody tr th {\n",
       "        vertical-align: top;\n",
       "    }\n",
       "\n",
       "    .dataframe thead th {\n",
       "        text-align: right;\n",
       "    }\n",
       "</style>\n",
       "<table border=\"1\" class=\"dataframe\">\n",
       "  <thead>\n",
       "    <tr style=\"text-align: right;\">\n",
       "      <th></th>\n",
       "      <th>spend</th>\n",
       "      <th>items_in_first_month</th>\n",
       "      <th>first_month</th>\n",
       "    </tr>\n",
       "  </thead>\n",
       "  <tbody>\n",
       "    <tr>\n",
       "      <th>spend</th>\n",
       "      <td>1.000000</td>\n",
       "      <td>-0.085650</td>\n",
       "      <td>0.102563</td>\n",
       "    </tr>\n",
       "    <tr>\n",
       "      <th>items_in_first_month</th>\n",
       "      <td>-0.085650</td>\n",
       "      <td>1.000000</td>\n",
       "      <td>-0.103646</td>\n",
       "    </tr>\n",
       "    <tr>\n",
       "      <th>first_month</th>\n",
       "      <td>0.102563</td>\n",
       "      <td>-0.103646</td>\n",
       "      <td>1.000000</td>\n",
       "    </tr>\n",
       "  </tbody>\n",
       "</table>\n",
       "</div>"
      ],
      "text/plain": [
       "                         spend  items_in_first_month  first_month\n",
       "spend                 1.000000             -0.085650     0.102563\n",
       "items_in_first_month -0.085650              1.000000    -0.103646\n",
       "first_month           0.102563             -0.103646     1.000000"
      ]
     },
     "execution_count": 99,
     "metadata": {},
     "output_type": "execute_result"
    }
   ],
   "source": [
    "# Checking the correlation between the total spend of each shopper with the amount they spent on the month they subscribed. \n",
    "# Also checking if the number of items they bought on subcription month correlates with total spend\n",
    "\n",
    "(loyalty_df [[\"spend\", \"items_in_first_month\", \"first_month\"]]).corr()"
   ]
  },
  {
   "cell_type": "code",
   "execution_count": 185,
   "id": "49df5a51-7eea-4c84-bca8-b81bcae27b7c",
   "metadata": {},
   "outputs": [
    {
     "data": {
      "text/html": [
       "<div style=\"display:flex\"><div style=\"margin-right: 2em\"><table border=\"1\" class=\"dataframe\">\n",
       "  <thead>\n",
       "    <tr style=\"text-align: right;\">\n",
       "      <th></th>\n",
       "      <th>spend</th>\n",
       "      <th>first_month</th>\n",
       "    </tr>\n",
       "    <tr>\n",
       "      <th>customer_id</th>\n",
       "      <th></th>\n",
       "      <th></th>\n",
       "    </tr>\n",
       "  </thead>\n",
       "  <tbody>\n",
       "    <tr>\n",
       "      <th>416</th>\n",
       "      <td>116.30</td>\n",
       "      <td>26.20</td>\n",
       "    </tr>\n",
       "    <tr>\n",
       "      <th>1237</th>\n",
       "      <td>130.56</td>\n",
       "      <td>26.18</td>\n",
       "    </tr>\n",
       "    <tr>\n",
       "      <th>1225</th>\n",
       "      <td>116.21</td>\n",
       "      <td>26.16</td>\n",
       "    </tr>\n",
       "    <tr>\n",
       "      <th>588</th>\n",
       "      <td>134.42</td>\n",
       "      <td>26.14</td>\n",
       "    </tr>\n",
       "    <tr>\n",
       "      <th>40</th>\n",
       "      <td>141.75</td>\n",
       "      <td>26.05</td>\n",
       "    </tr>\n",
       "    <tr>\n",
       "      <th>699</th>\n",
       "      <td>135.32</td>\n",
       "      <td>25.90</td>\n",
       "    </tr>\n",
       "    <tr>\n",
       "      <th>882</th>\n",
       "      <td>134.54</td>\n",
       "      <td>25.85</td>\n",
       "    </tr>\n",
       "    <tr>\n",
       "      <th>468</th>\n",
       "      <td>123.29</td>\n",
       "      <td>25.78</td>\n",
       "    </tr>\n",
       "    <tr>\n",
       "      <th>898</th>\n",
       "      <td>123.51</td>\n",
       "      <td>25.76</td>\n",
       "    </tr>\n",
       "    <tr>\n",
       "      <th>329</th>\n",
       "      <td>141.34</td>\n",
       "      <td>25.74</td>\n",
       "    </tr>\n",
       "    <tr>\n",
       "      <th>688</th>\n",
       "      <td>141.33</td>\n",
       "      <td>25.74</td>\n",
       "    </tr>\n",
       "  </tbody>\n",
       "</table></div><div style=\"margin-right: 2em\"><table border=\"1\" class=\"dataframe\">\n",
       "  <thead>\n",
       "    <tr style=\"text-align: right;\">\n",
       "      <th></th>\n",
       "      <th>spend</th>\n",
       "      <th>items_in_first_month</th>\n",
       "    </tr>\n",
       "    <tr>\n",
       "      <th>customer_id</th>\n",
       "      <th></th>\n",
       "      <th></th>\n",
       "    </tr>\n",
       "  </thead>\n",
       "  <tbody>\n",
       "    <tr>\n",
       "      <th>914</th>\n",
       "      <td>106.53</td>\n",
       "      <td>15</td>\n",
       "    </tr>\n",
       "    <tr>\n",
       "      <th>1132</th>\n",
       "      <td>126.09</td>\n",
       "      <td>15</td>\n",
       "    </tr>\n",
       "    <tr>\n",
       "      <th>460</th>\n",
       "      <td>126.68</td>\n",
       "      <td>14</td>\n",
       "    </tr>\n",
       "    <tr>\n",
       "      <th>185</th>\n",
       "      <td>127.06</td>\n",
       "      <td>14</td>\n",
       "    </tr>\n",
       "    <tr>\n",
       "      <th>748</th>\n",
       "      <td>119.41</td>\n",
       "      <td>14</td>\n",
       "    </tr>\n",
       "    <tr>\n",
       "      <th>788</th>\n",
       "      <td>106.69</td>\n",
       "      <td>14</td>\n",
       "    </tr>\n",
       "    <tr>\n",
       "      <th>518</th>\n",
       "      <td>127.04</td>\n",
       "      <td>14</td>\n",
       "    </tr>\n",
       "    <tr>\n",
       "      <th>1015</th>\n",
       "      <td>122.05</td>\n",
       "      <td>14</td>\n",
       "    </tr>\n",
       "    <tr>\n",
       "      <th>1011</th>\n",
       "      <td>106.90</td>\n",
       "      <td>14</td>\n",
       "    </tr>\n",
       "    <tr>\n",
       "      <th>191</th>\n",
       "      <td>111.97</td>\n",
       "      <td>14</td>\n",
       "    </tr>\n",
       "    <tr>\n",
       "      <th>192</th>\n",
       "      <td>121.47</td>\n",
       "      <td>14</td>\n",
       "    </tr>\n",
       "  </tbody>\n",
       "</table></div></div>"
      ],
      "text/plain": [
       "<IPython.core.display.HTML object>"
      ]
     },
     "metadata": {},
     "output_type": "display_data"
    }
   ],
   "source": [
    "# To see the top spenders in the first month a customer joined the lotalty program, and how much they spent in the full year\n",
    "spend_1st_mth = loyalty_df.groupby(\"customer_id\")[[\"spend\", \"first_month\"]].max().sort_values(by='first_month',ascending=False)[0:11]\n",
    "\n",
    "# To see the number of items purchased in the first month a customer joined the lotalty program, and how much they spent in the full year\n",
    "item_1st_mth =loyalty_df.groupby(\"customer_id\")[[\"spend\", \"items_in_first_month\"]].max().sort_values(by='items_in_first_month',ascending=False)[0:11]\n",
    "\n",
    "#To show the output of the relationship of total annual spend with the first month spend, and also the number of items purchased in the first month\n",
    "\n",
    "from IPython.display import HTML\n",
    "def side_by_side(*dfs):\n",
    "    html = '<div style=\"display:flex\">'\n",
    "    for df in dfs:\n",
    "        html += '<div style=\"margin-right: 2em\">'\n",
    "        html += df.to_html()\n",
    "        html += '</div>'\n",
    "    html += '</div>'\n",
    "    display(HTML(html))\n",
    "\n",
    "side_by_side (spend_1st_mth, item_1st_mth)"
   ]
  },
  {
   "cell_type": "markdown",
   "id": "ccfb791f-d299-40ad-aca1-1774af17bbd4",
   "metadata": {},
   "source": [
    "#### There was no meaningful correlation between the amount spent in the first month or the number of items purchased and the total annual spending by a shopper. Several customers who were top spenders when they joined the loyalty program ended up spending less than the average amount recorded in the year. Similarly, some customers who purchased the most items on the month they subscribed to the loyalty program spent less than average."
   ]
  },
  {
   "cell_type": "code",
   "execution_count": null,
   "id": "9ce2ec58-7189-448e-b908-152e3bd4cc43",
   "metadata": {},
   "outputs": [],
   "source": []
  },
  {
   "cell_type": "markdown",
   "id": "b4dbd9b3-e4d8-443c-b937-ef88ded9e818",
   "metadata": {},
   "source": [
    "### Loyalty groups"
   ]
  },
  {
   "cell_type": "code",
   "execution_count": 103,
   "id": "a942df79-93eb-40e3-a4e4-194ae7f92c3d",
   "metadata": {},
   "outputs": [
    {
     "data": {
      "image/png": "[encoded data removed]",
      "text/plain": [
       "<Figure size 900x800 with 1 Axes>"
      ]
     },
     "metadata": {},
     "output_type": "display_data"
    }
   ],
   "source": [
    "#to determine the total spending based on loyalty groups\n",
    "sum_cust_loyalty=loyalty_df.groupby('loyalty_years')['spend'].sum().sort_values(ascending = True)\n",
    "\n",
    "fig,ax = plt.subplots(figsize =(9,8))\n",
    "bars = ax.barh(sum_cust_loyalty.index, sum_cust_loyalty)\n",
    "ax.bar_label(bars, labels=[f'{value:,.0f}' for value in sum_cust_loyalty]) #Formatting to show the data labels in the bars\n",
    "ax.set_xticks(ticks=[])\n",
    "ax.set_title('Spending by loyalty group categories')\n",
    "ax.spines['right'].set_visible(False)\n",
    "plt.show()"
   ]
  },
  {
   "cell_type": "markdown",
   "id": "87e94005-9056-4f83-b518-6014d309420f",
   "metadata": {},
   "source": [
    "#### When combining the spending of shoppers by loyalty group, those who had subscribed for 0-1 years contributed the highest total spending, while shoppers who have been part of the loyalty for over 10 years had the lowest total spending"
   ]
  },
  {
   "cell_type": "code",
   "execution_count": 105,
   "id": "5e0e2edb-4e94-4a95-95c0-dad84219fe86",
   "metadata": {},
   "outputs": [
    {
     "data": {
      "text/plain": [
       "loyalty_years\n",
       "0-1     27.638307\n",
       "5-10    22.111398\n",
       "3-5     20.866308\n",
       "1-3     20.394056\n",
       "10+      8.989931\n",
       "Name: spend, dtype: float64"
      ]
     },
     "execution_count": 105,
     "metadata": {},
     "output_type": "execute_result"
    }
   ],
   "source": [
    "# spending % of customers in the various loyalty groups\n",
    "\n",
    "((loyalty_df.groupby('loyalty_years')['spend'].sum().sort_values(ascending = False))/loyalty_df.spend.sum()) *100"
   ]
  },
  {
   "cell_type": "code",
   "execution_count": 106,
   "id": "fa9b0767-f64f-4aa3-b369-c88b52fd2925",
   "metadata": {},
   "outputs": [
    {
     "data": {
      "image/png": "[encoded data removed]",
      "text/plain": [
       "<Figure size 900x700 with 1 Axes>"
      ]
     },
     "metadata": {},
     "output_type": "display_data"
    }
   ],
   "source": [
    "loyalty_percent = loyalty_df.groupby('loyalty_years')['spend'].sum().sort_values(ascending = False)\n",
    "\n",
    "plt.figure(figsize= (9,7))\n",
    "plt.pie(loyalty_percent, labels =loyalty_percent.index, autopct = '%1.2f%%')\n",
    "plt.title(\"Spending proportion from customers based on loyalty groups\")\n",
    "plt.legend()\n",
    "plt.show()"
   ]
  },
  {
   "cell_type": "code",
   "execution_count": 107,
   "id": "883593ed-7d9b-4ba5-b96c-864aea162a1b",
   "metadata": {},
   "outputs": [
    {
     "name": "stdout",
     "output_type": "stream",
     "text": [
      "The total % of spending in the 5-10 group was 22.11 and 8.99 in the 10+ group\n",
      "Taken together, these groups were the most loyal customers and the total % spend from both groups was 31.1 %\n"
     ]
    }
   ],
   "source": [
    "# spending % of the most loyal customers, customers in loyalty program for over 5 years\n",
    "\n",
    "percent5_10 = 22.11        # customers in the 5-10 loyalty group\n",
    "percent_10_above = 8.99    #customers in the 10+ loyalty group\n",
    "result = percent5_10 + percent_10_above\n",
    "\n",
    "print (f\"The total % of spending in the 5-10 group was {percent5_10} and {percent_10_above} in the 10+ group\")\n",
    "print (f\"Taken together, these groups were the most loyal customers and the total % spend from both groups was {result} %\")"
   ]
  },
  {
   "cell_type": "markdown",
   "id": "ee09a9f5-ba2a-412e-9e47-759042a5a908",
   "metadata": {},
   "source": [
    "#### The most loyal shoppers (who had been subscribed in the loyalty group for over 5 years) contributed to 31.1% of the total spending recorded in the last full year"
   ]
  },
  {
   "cell_type": "code",
   "execution_count": 109,
   "id": "627d3825-961b-4d81-9e54-111d66c6755c",
   "metadata": {},
   "outputs": [
    {
     "data": {
      "image/png": "[encoded data removed]",
      "text/plain": [
       "<Figure size 900x800 with 1 Axes>"
      ]
     },
     "metadata": {},
     "output_type": "display_data"
    }
   ],
   "source": [
    "#to determine the average spending based on loyalty groups\n",
    "\n",
    "avr_cust_loyalty= round(loyalty_df.groupby('loyalty_years')['spend'].mean(),2).sort_values(ascending = True)\n",
    "\n",
    "fig,ax = plt.subplots(figsize =(9,8))\n",
    "\n",
    "bars = ax.barh(avr_cust_loyalty.index, avr_cust_loyalty)\n",
    "ax.bar_label(bars, labels=[f'{value:,.0f}' for value in avr_cust_loyalty]) #Formatting to show the data labels in the bars\n",
    "ax.set_xticks(ticks=[])\n",
    "ax.set_title('Average spend by shoppers in the various loyalty groups')\n",
    "ax.spines['right'].set_visible(False)\n",
    "plt.show()"
   ]
  },
  {
   "cell_type": "markdown",
   "id": "65940ecc-95b5-4439-a6d5-a859db79c380",
   "metadata": {},
   "source": [
    "#### Looking at the average spending of each shopper in each loyalty group, those subscribed for 5-10 years spent the most. Customers in the 0-1 group spent the least on average"
   ]
  },
  {
   "cell_type": "code",
   "execution_count": null,
   "id": "b8aa8cab-66a6-4924-91b9-60759c1f5d1a",
   "metadata": {},
   "outputs": [],
   "source": []
  },
  {
   "cell_type": "markdown",
   "id": "5019926c-1bf4-4fdb-9b90-2f2ce3c7d848",
   "metadata": {},
   "source": [
    "### Regions"
   ]
  },
  {
   "cell_type": "code",
   "execution_count": 112,
   "id": "1a585eda-768a-48eb-ac7d-70f6492c5b1a",
   "metadata": {},
   "outputs": [
    {
     "data": {
      "text/plain": [
       "region\n",
       "Asia/Pacific          35813.08\n",
       "Americas              37683.51\n",
       "Europe                39214.13\n",
       "Middle East/Africa    40095.13\n",
       "Name: spend, dtype: float64"
      ]
     },
     "execution_count": 112,
     "metadata": {},
     "output_type": "execute_result"
    }
   ],
   "source": [
    "# Analyzing by regions\n",
    "# To see what regions spent the most, and also what region has the most loyal customers (customers who have been subscribed for over 5 years)\n",
    "\n",
    "regional_spend = loyalty_df.groupby('region')['spend'].sum().sort_values(ascending = True)\n",
    "regional_spend"
   ]
  },
  {
   "cell_type": "code",
   "execution_count": 113,
   "id": "d89b24f7-b4d6-4ea3-8aca-ce10a8001598",
   "metadata": {},
   "outputs": [
    {
     "data": {
      "image/png": "[encoded data removed]",
      "text/plain": [
       "<Figure size 800x700 with 1 Axes>"
      ]
     },
     "metadata": {},
     "output_type": "display_data"
    }
   ],
   "source": [
    "fig, ax = plt.subplots(figsize = (8,7))\n",
    "bars = ax.barh(regional_spend.index, regional_spend.values)\n",
    "\n",
    "ax.bar_label(bars, labels=[f'{value:,.0f}' for value in regional_spend], padding=3) #Formatting to show the data labels in the bars\n",
    "plt.xticks(ticks=[])\n",
    "ax.set_title(\"Regional spending totals\")\n",
    "\n",
    "# To take out the borders at the top and left side of the figure, to ensure better visual\n",
    "ax.spines['right'].set_visible(False)\n",
    "ax.spines['top'].set_visible(False)\n",
    "plt.show()"
   ]
  },
  {
   "cell_type": "markdown",
   "id": "18a5caa0-1cf5-47e7-a5fe-8792fa8c8731",
   "metadata": {},
   "source": [
    "#### Records show customers in Middle East/Africa collectively spent the highest with around $40,000, while Asia/Pacific, the lowest"
   ]
  },
  {
   "cell_type": "code",
   "execution_count": 115,
   "id": "70ad2dcb-7731-4335-a5f2-3baca0dd2db8",
   "metadata": {},
   "outputs": [
    {
     "data": {
      "text/plain": [
       "region\n",
       "Asia/Pacific          123.069003\n",
       "Middle East/Africa    122.991196\n",
       "Europe                122.544156\n",
       "Americas              121.953107\n",
       "Name: spend, dtype: float64"
      ]
     },
     "execution_count": 115,
     "metadata": {},
     "output_type": "execute_result"
    }
   ],
   "source": [
    "# To see the average spending of each customer in the regions\n",
    "mean_regional_spend = loyalty_df.groupby('region')['spend'].mean().sort_values(ascending = False)\n",
    "mean_regional_spend"
   ]
  },
  {
   "cell_type": "markdown",
   "id": "d7ebe145-bfcf-4dba-b36f-8284a22a425d",
   "metadata": {},
   "source": [
    "#### A quick look at the average of each shopper in these regions however showed no different in total spending."
   ]
  },
  {
   "cell_type": "code",
   "execution_count": 117,
   "id": "18cbe031-3a07-4168-9c82-68323fbf0bc6",
   "metadata": {},
   "outputs": [
    {
     "data": {
      "image/png": "[encoded data removed]",
      "text/plain": [
       "<Figure size 900x600 with 1 Axes>"
      ]
     },
     "metadata": {},
     "output_type": "display_data"
    }
   ],
   "source": [
    "# to get customers with above 10 loyalty years\n",
    "ya10 = (loyalty_df[loyalty_df['loyalty_years'] == '10+']).region.value_counts()\n",
    "\n",
    "# to get customers between 5-10 loyalty years\n",
    "y5_10 = (loyalty_df[loyalty_df['loyalty_years'] == '5-10']).region.value_counts()\n",
    "\n",
    "#a stacked bar showing the count of customers above 5 in each region\n",
    "fig, ax = plt.subplots(figsize = (9,6))\n",
    "ax.bar(ya10.index, ya10.values, label= \"10+\")\n",
    "ax.bar(ya10.index, y5_10.values, bottom = ya10, label=\"5-10\")\n",
    "plt.title(\"Regional count for the most loyal customers: part of the loyalty program for over 5 years\")\n",
    "plt.legend()\n",
    "plt.show()"
   ]
  },
  {
   "cell_type": "markdown",
   "id": "e77267c9-3616-49ac-88db-f48edd581849",
   "metadata": {},
   "source": [
    "#### Middle East/Africa had the most loyal customers (part of the loyalty program for over 5 years), with Americas regions in second. Although Europe had the least amount of customers part of the program for over 5 years, it ranked second in total regional spending. "
   ]
  },
  {
   "cell_type": "code",
   "execution_count": null,
   "id": "718e0d67-0a95-48b1-bb49-d61c6213d224",
   "metadata": {},
   "outputs": [],
   "source": []
  },
  {
   "cell_type": "markdown",
   "id": "3a983066-5f0d-4b68-8166-076c7502d199",
   "metadata": {},
   "source": [
    "#### Monthly Analysis"
   ]
  },
  {
   "cell_type": "code",
   "execution_count": 120,
   "id": "1848b2a3-ddc5-4d0c-aea1-b9192f3163a2",
   "metadata": {},
   "outputs": [
    {
     "data": {
      "text/plain": [
       "month_num\n",
       "Dec         5931.93\n",
       "Nov         9194.20\n",
       "Jun         9309.22\n",
       "Mar        10077.05\n",
       "Sep        11046.78\n",
       "Aug        11139.84\n",
       "Apr        11697.23\n",
       "May        12093.38\n",
       "Feb        12701.94\n",
       "Oct        12989.48\n",
       "Jul        13875.90\n",
       "Unknown    15466.90\n",
       "Jan        17282.00\n",
       "Name: spend, dtype: float64"
      ]
     },
     "execution_count": 120,
     "metadata": {},
     "output_type": "execute_result"
    }
   ],
   "source": [
    "# converting the month name to month number to get trend analysis of subcription time with spending\n",
    "\n",
    "loyalty_df[\"month_num\"] = loyalty_df.loc[:, \"joining_month\"] \n",
    "loyalty_df.groupby(\"month_num\")['spend'].sum().sort_values()"
   ]
  },
  {
   "cell_type": "code",
   "execution_count": 121,
   "id": "1d01fc9a-3a7a-4316-98c8-86fb9ef515a5",
   "metadata": {},
   "outputs": [
    {
     "data": {
      "text/html": [
       "<div>\n",
       "<style scoped>\n",
       "    .dataframe tbody tr th:only-of-type {\n",
       "        vertical-align: middle;\n",
       "    }\n",
       "\n",
       "    .dataframe tbody tr th {\n",
       "        vertical-align: top;\n",
       "    }\n",
       "\n",
       "    .dataframe thead th {\n",
       "        text-align: right;\n",
       "    }\n",
       "</style>\n",
       "<table border=\"1\" class=\"dataframe\">\n",
       "  <thead>\n",
       "    <tr style=\"text-align: right;\">\n",
       "      <th></th>\n",
       "      <th>customer_id</th>\n",
       "      <th>spend</th>\n",
       "      <th>first_month</th>\n",
       "      <th>items_in_first_month</th>\n",
       "      <th>region</th>\n",
       "      <th>loyalty_years</th>\n",
       "      <th>joining_month</th>\n",
       "      <th>promotion</th>\n",
       "      <th>month_num</th>\n",
       "    </tr>\n",
       "  </thead>\n",
       "  <tbody>\n",
       "    <tr>\n",
       "      <th>0</th>\n",
       "      <td>1</td>\n",
       "      <td>132.68</td>\n",
       "      <td>15.30</td>\n",
       "      <td>5</td>\n",
       "      <td>Asia/Pacific</td>\n",
       "      <td>5-10</td>\n",
       "      <td>Nov</td>\n",
       "      <td>No</td>\n",
       "      <td>Nov</td>\n",
       "    </tr>\n",
       "    <tr>\n",
       "      <th>1</th>\n",
       "      <td>2</td>\n",
       "      <td>106.45</td>\n",
       "      <td>16.20</td>\n",
       "      <td>14</td>\n",
       "      <td>Asia/Pacific</td>\n",
       "      <td>0-1</td>\n",
       "      <td>Feb</td>\n",
       "      <td>Yes</td>\n",
       "      <td>Feb</td>\n",
       "    </tr>\n",
       "    <tr>\n",
       "      <th>2</th>\n",
       "      <td>3</td>\n",
       "      <td>123.16</td>\n",
       "      <td>25.26</td>\n",
       "      <td>7</td>\n",
       "      <td>Middle East/Africa</td>\n",
       "      <td>10+</td>\n",
       "      <td>Dec</td>\n",
       "      <td>Yes</td>\n",
       "      <td>Dec</td>\n",
       "    </tr>\n",
       "    <tr>\n",
       "      <th>3</th>\n",
       "      <td>4</td>\n",
       "      <td>130.60</td>\n",
       "      <td>24.74</td>\n",
       "      <td>8</td>\n",
       "      <td>Middle East/Africa</td>\n",
       "      <td>3-5</td>\n",
       "      <td>Apr</td>\n",
       "      <td>No</td>\n",
       "      <td>Apr</td>\n",
       "    </tr>\n",
       "    <tr>\n",
       "      <th>4</th>\n",
       "      <td>5</td>\n",
       "      <td>130.41</td>\n",
       "      <td>25.59</td>\n",
       "      <td>8</td>\n",
       "      <td>Middle East/Africa</td>\n",
       "      <td>3-5</td>\n",
       "      <td>Apr</td>\n",
       "      <td>Yes</td>\n",
       "      <td>Apr</td>\n",
       "    </tr>\n",
       "    <tr>\n",
       "      <th>...</th>\n",
       "      <td>...</td>\n",
       "      <td>...</td>\n",
       "      <td>...</td>\n",
       "      <td>...</td>\n",
       "      <td>...</td>\n",
       "      <td>...</td>\n",
       "      <td>...</td>\n",
       "      <td>...</td>\n",
       "      <td>...</td>\n",
       "    </tr>\n",
       "    <tr>\n",
       "      <th>1238</th>\n",
       "      <td>1239</td>\n",
       "      <td>112.12</td>\n",
       "      <td>13.51</td>\n",
       "      <td>13</td>\n",
       "      <td>Europe</td>\n",
       "      <td>10+</td>\n",
       "      <td>Oct</td>\n",
       "      <td>Yes</td>\n",
       "      <td>Oct</td>\n",
       "    </tr>\n",
       "    <tr>\n",
       "      <th>1239</th>\n",
       "      <td>1240</td>\n",
       "      <td>130.01</td>\n",
       "      <td>24.97</td>\n",
       "      <td>9</td>\n",
       "      <td>Americas</td>\n",
       "      <td>3-5</td>\n",
       "      <td>Apr</td>\n",
       "      <td>Yes</td>\n",
       "      <td>Apr</td>\n",
       "    </tr>\n",
       "    <tr>\n",
       "      <th>1240</th>\n",
       "      <td>1241</td>\n",
       "      <td>131.14</td>\n",
       "      <td>0.00</td>\n",
       "      <td>9</td>\n",
       "      <td>Europe</td>\n",
       "      <td>1-3</td>\n",
       "      <td>Jan</td>\n",
       "      <td>No</td>\n",
       "      <td>Jan</td>\n",
       "    </tr>\n",
       "    <tr>\n",
       "      <th>1242</th>\n",
       "      <td>1243</td>\n",
       "      <td>111.85</td>\n",
       "      <td>21.22</td>\n",
       "      <td>9</td>\n",
       "      <td>Asia/Pacific</td>\n",
       "      <td>0-1</td>\n",
       "      <td>Jan</td>\n",
       "      <td>No</td>\n",
       "      <td>Jan</td>\n",
       "    </tr>\n",
       "    <tr>\n",
       "      <th>1243</th>\n",
       "      <td>1244</td>\n",
       "      <td>132.51</td>\n",
       "      <td>16.23</td>\n",
       "      <td>9</td>\n",
       "      <td>Middle East/Africa</td>\n",
       "      <td>5-10</td>\n",
       "      <td>Aug</td>\n",
       "      <td>No</td>\n",
       "      <td>Aug</td>\n",
       "    </tr>\n",
       "  </tbody>\n",
       "</table>\n",
       "<p>1121 rows × 9 columns</p>\n",
       "</div>"
      ],
      "text/plain": [
       "      customer_id   spend  first_month  items_in_first_month  \\\n",
       "0               1  132.68        15.30                     5   \n",
       "1               2  106.45        16.20                    14   \n",
       "2               3  123.16        25.26                     7   \n",
       "3               4  130.60        24.74                     8   \n",
       "4               5  130.41        25.59                     8   \n",
       "...           ...     ...          ...                   ...   \n",
       "1238         1239  112.12        13.51                    13   \n",
       "1239         1240  130.01        24.97                     9   \n",
       "1240         1241  131.14         0.00                     9   \n",
       "1242         1243  111.85        21.22                     9   \n",
       "1243         1244  132.51        16.23                     9   \n",
       "\n",
       "                  region loyalty_years joining_month promotion month_num  \n",
       "0           Asia/Pacific          5-10           Nov        No       Nov  \n",
       "1           Asia/Pacific           0-1           Feb       Yes       Feb  \n",
       "2     Middle East/Africa           10+           Dec       Yes       Dec  \n",
       "3     Middle East/Africa           3-5           Apr        No       Apr  \n",
       "4     Middle East/Africa           3-5           Apr       Yes       Apr  \n",
       "...                  ...           ...           ...       ...       ...  \n",
       "1238              Europe           10+           Oct       Yes       Oct  \n",
       "1239            Americas           3-5           Apr       Yes       Apr  \n",
       "1240              Europe           1-3           Jan        No       Jan  \n",
       "1242        Asia/Pacific           0-1           Jan        No       Jan  \n",
       "1243  Middle East/Africa          5-10           Aug        No       Aug  \n",
       "\n",
       "[1121 rows x 9 columns]"
      ]
     },
     "execution_count": 121,
     "metadata": {},
     "output_type": "execute_result"
    }
   ],
   "source": [
    "no_unk = loyalty_df['month_num'] == 'Unknown'\n",
    "\n",
    "# select all rows except the ones that contain 'unknown'\n",
    "loyalty_df = loyalty_df[~no_unk]\n",
    "\n",
    "loyalty_df"
   ]
  },
  {
   "cell_type": "markdown",
   "id": "af29a528-0aaa-47ee-b29b-2d6956ad7992",
   "metadata": {},
   "source": [
    "#### Removing the rows with unknown values in the joining month reduced the values from 1246 to 1121"
   ]
  },
  {
   "cell_type": "code",
   "execution_count": 123,
   "id": "db148ce6-1926-4097-bda9-dc2f308dcab1",
   "metadata": {},
   "outputs": [
    {
     "data": {
      "text/html": [
       "<div>\n",
       "<style scoped>\n",
       "    .dataframe tbody tr th:only-of-type {\n",
       "        vertical-align: middle;\n",
       "    }\n",
       "\n",
       "    .dataframe tbody tr th {\n",
       "        vertical-align: top;\n",
       "    }\n",
       "\n",
       "    .dataframe thead th {\n",
       "        text-align: right;\n",
       "    }\n",
       "</style>\n",
       "<table border=\"1\" class=\"dataframe\">\n",
       "  <thead>\n",
       "    <tr style=\"text-align: right;\">\n",
       "      <th></th>\n",
       "      <th>customer_id</th>\n",
       "      <th>spend</th>\n",
       "      <th>first_month</th>\n",
       "      <th>items_in_first_month</th>\n",
       "      <th>region</th>\n",
       "      <th>loyalty_years</th>\n",
       "      <th>joining_month</th>\n",
       "      <th>promotion</th>\n",
       "      <th>month_num</th>\n",
       "    </tr>\n",
       "  </thead>\n",
       "  <tbody>\n",
       "    <tr>\n",
       "      <th>0</th>\n",
       "      <td>1</td>\n",
       "      <td>132.68</td>\n",
       "      <td>15.30</td>\n",
       "      <td>5</td>\n",
       "      <td>Asia/Pacific</td>\n",
       "      <td>5-10</td>\n",
       "      <td>Nov</td>\n",
       "      <td>No</td>\n",
       "      <td>11</td>\n",
       "    </tr>\n",
       "    <tr>\n",
       "      <th>1</th>\n",
       "      <td>2</td>\n",
       "      <td>106.45</td>\n",
       "      <td>16.20</td>\n",
       "      <td>14</td>\n",
       "      <td>Asia/Pacific</td>\n",
       "      <td>0-1</td>\n",
       "      <td>Feb</td>\n",
       "      <td>Yes</td>\n",
       "      <td>2</td>\n",
       "    </tr>\n",
       "    <tr>\n",
       "      <th>2</th>\n",
       "      <td>3</td>\n",
       "      <td>123.16</td>\n",
       "      <td>25.26</td>\n",
       "      <td>7</td>\n",
       "      <td>Middle East/Africa</td>\n",
       "      <td>10+</td>\n",
       "      <td>Dec</td>\n",
       "      <td>Yes</td>\n",
       "      <td>12</td>\n",
       "    </tr>\n",
       "    <tr>\n",
       "      <th>3</th>\n",
       "      <td>4</td>\n",
       "      <td>130.60</td>\n",
       "      <td>24.74</td>\n",
       "      <td>8</td>\n",
       "      <td>Middle East/Africa</td>\n",
       "      <td>3-5</td>\n",
       "      <td>Apr</td>\n",
       "      <td>No</td>\n",
       "      <td>4</td>\n",
       "    </tr>\n",
       "    <tr>\n",
       "      <th>4</th>\n",
       "      <td>5</td>\n",
       "      <td>130.41</td>\n",
       "      <td>25.59</td>\n",
       "      <td>8</td>\n",
       "      <td>Middle East/Africa</td>\n",
       "      <td>3-5</td>\n",
       "      <td>Apr</td>\n",
       "      <td>Yes</td>\n",
       "      <td>4</td>\n",
       "    </tr>\n",
       "    <tr>\n",
       "      <th>...</th>\n",
       "      <td>...</td>\n",
       "      <td>...</td>\n",
       "      <td>...</td>\n",
       "      <td>...</td>\n",
       "      <td>...</td>\n",
       "      <td>...</td>\n",
       "      <td>...</td>\n",
       "      <td>...</td>\n",
       "      <td>...</td>\n",
       "    </tr>\n",
       "    <tr>\n",
       "      <th>1238</th>\n",
       "      <td>1239</td>\n",
       "      <td>112.12</td>\n",
       "      <td>13.51</td>\n",
       "      <td>13</td>\n",
       "      <td>Europe</td>\n",
       "      <td>10+</td>\n",
       "      <td>Oct</td>\n",
       "      <td>Yes</td>\n",
       "      <td>10</td>\n",
       "    </tr>\n",
       "    <tr>\n",
       "      <th>1239</th>\n",
       "      <td>1240</td>\n",
       "      <td>130.01</td>\n",
       "      <td>24.97</td>\n",
       "      <td>9</td>\n",
       "      <td>Americas</td>\n",
       "      <td>3-5</td>\n",
       "      <td>Apr</td>\n",
       "      <td>Yes</td>\n",
       "      <td>4</td>\n",
       "    </tr>\n",
       "    <tr>\n",
       "      <th>1240</th>\n",
       "      <td>1241</td>\n",
       "      <td>131.14</td>\n",
       "      <td>0.00</td>\n",
       "      <td>9</td>\n",
       "      <td>Europe</td>\n",
       "      <td>1-3</td>\n",
       "      <td>Jan</td>\n",
       "      <td>No</td>\n",
       "      <td>1</td>\n",
       "    </tr>\n",
       "    <tr>\n",
       "      <th>1242</th>\n",
       "      <td>1243</td>\n",
       "      <td>111.85</td>\n",
       "      <td>21.22</td>\n",
       "      <td>9</td>\n",
       "      <td>Asia/Pacific</td>\n",
       "      <td>0-1</td>\n",
       "      <td>Jan</td>\n",
       "      <td>No</td>\n",
       "      <td>1</td>\n",
       "    </tr>\n",
       "    <tr>\n",
       "      <th>1243</th>\n",
       "      <td>1244</td>\n",
       "      <td>132.51</td>\n",
       "      <td>16.23</td>\n",
       "      <td>9</td>\n",
       "      <td>Middle East/Africa</td>\n",
       "      <td>5-10</td>\n",
       "      <td>Aug</td>\n",
       "      <td>No</td>\n",
       "      <td>8</td>\n",
       "    </tr>\n",
       "  </tbody>\n",
       "</table>\n",
       "<p>1121 rows × 9 columns</p>\n",
       "</div>"
      ],
      "text/plain": [
       "      customer_id   spend  first_month  items_in_first_month  \\\n",
       "0               1  132.68        15.30                     5   \n",
       "1               2  106.45        16.20                    14   \n",
       "2               3  123.16        25.26                     7   \n",
       "3               4  130.60        24.74                     8   \n",
       "4               5  130.41        25.59                     8   \n",
       "...           ...     ...          ...                   ...   \n",
       "1238         1239  112.12        13.51                    13   \n",
       "1239         1240  130.01        24.97                     9   \n",
       "1240         1241  131.14         0.00                     9   \n",
       "1242         1243  111.85        21.22                     9   \n",
       "1243         1244  132.51        16.23                     9   \n",
       "\n",
       "                  region loyalty_years joining_month promotion month_num  \n",
       "0           Asia/Pacific          5-10           Nov        No        11  \n",
       "1           Asia/Pacific           0-1           Feb       Yes         2  \n",
       "2     Middle East/Africa           10+           Dec       Yes        12  \n",
       "3     Middle East/Africa           3-5           Apr        No         4  \n",
       "4     Middle East/Africa           3-5           Apr       Yes         4  \n",
       "...                  ...           ...           ...       ...       ...  \n",
       "1238              Europe           10+           Oct       Yes        10  \n",
       "1239            Americas           3-5           Apr       Yes         4  \n",
       "1240              Europe           1-3           Jan        No         1  \n",
       "1242        Asia/Pacific           0-1           Jan        No         1  \n",
       "1243  Middle East/Africa          5-10           Aug        No         8  \n",
       "\n",
       "[1121 rows x 9 columns]"
      ]
     },
     "execution_count": 123,
     "metadata": {},
     "output_type": "execute_result"
    }
   ],
   "source": [
    "# Dictionary to map month abbreviations to numbers\n",
    "month_map = ({'Jan': 1, 'Feb': 2, 'Mar': 3, 'Apr': 4, 'May': 5, 'Jun': 6, \n",
    "             'Jul': 7, 'Aug': 8, 'Sep': 9, 'Oct': 10, 'Nov': 11, 'Dec': 12})\n",
    "\n",
    "# Updating the month_num column to reflect only numbers, needed for a line plot\n",
    "loyalty_df.loc[:, 'month_num'] = loyalty_df['month_num'].map(lambda month: month_map.get(month, month))\n",
    "loyalty_df"
   ]
  },
  {
   "cell_type": "code",
   "execution_count": 124,
   "id": "7991658a-e6eb-4d66-80ba-c83242f1e7d3",
   "metadata": {},
   "outputs": [
    {
     "data": {
      "image/png": "[encoded data removed]",
      "text/plain": [
       "<Figure size 1200x600 with 1 Axes>"
      ]
     },
     "metadata": {},
     "output_type": "display_data"
    }
   ],
   "source": [
    "# total spending based on the month shoppers subscribed for the loyalty program \n",
    "spend_dates = loyalty_df.groupby('month_num')['spend'].sum()\n",
    "\n",
    "# spending in the first month shoppers joined the loyalty program\n",
    "dates_first_month_spend = loyalty_df.groupby('month_num')['first_month'].sum()\n",
    "\n",
    "# number of items purchased in the first month shoppers joined the loyalty program\n",
    "dates_items_first_month = loyalty_df.groupby('month_num')[\"items_in_first_month\"].sum()\n",
    "\n",
    "# Creating a line plot to show the monthly trends on spending, spend on month of subscription and number of items purchased on first month\n",
    "plt.figure(figsize = (12,6))\n",
    "plt.plot(spend_dates.index, spend_dates.values, marker = \"s\")\n",
    "plt.plot(dates_first_month_spend.index, dates_first_month_spend.values, marker = \"o\")\n",
    "plt.plot(dates_items_first_month.index, dates_items_first_month.values, marker = \"x\")\n",
    "plt.xlabel(\"Months\")\n",
    "plt.legend(['total spend','Spend on joining month', \"Number of items purchased on joining month\"])\n",
    "plt.title (\"Monthly information on total spending, and spend/number of items purchased on month a customer joins the loyalty program\")\n",
    "plt.show()"
   ]
  },
  {
   "cell_type": "markdown",
   "id": "90ed02a7-c377-4296-96e1-cac66479f38b",
   "metadata": {},
   "source": [
    "#### Customers who joined the loyalty program in January contributed the highest spending, whereas those that joined in December recorded the least spending. Between these months, from March to October, the overall spending pattern for shoppers who subscribed to the program showed a slight increase, although some months experienced a decline in spending."
   ]
  },
  {
   "cell_type": "markdown",
   "id": "4f8cf999-99e4-499b-8e75-95e0d3eb4f17",
   "metadata": {},
   "source": [
    "#### The highest spending by customers in their first month of joining the loyalty program occurred in January. Following a drop in February and March, the spending patterns for new subscribers fluctuated until October, ultimately reaching their lowest levels in November and December. Additionally, the number of items purchased by first-time subscribers saw a sharp decline between February and March, then gradually increased throughout the year until October, before experiencing another significant drop in the subsequent months."
   ]
  },
  {
   "cell_type": "code",
   "execution_count": 127,
   "id": "7ef05962-a5f1-4221-9992-31b2fbedc4bf",
   "metadata": {},
   "outputs": [],
   "source": [
    "# Observations to show spending patterns across months, and how it relates to the loyalty years categories\n",
    "\n",
    "months = [\"Jan\", \"Feb\", \"Mar\", \"Apr\", \"May\", \"Jun\", \"Jul\", \"Aug\", \"Sep\", \"Oct\", \"Nov\", \"Dec\"]\n",
    "monthly_spend = {}\n",
    "\n",
    "for month in months:\n",
    "    filtered_data = loyalty_df[loyalty_df.joining_month == month]\n",
    "    monthly_spend[month] = filtered_data.groupby('loyalty_years')['spend'].sum().sort_values(ascending=False)"
   ]
  },
  {
   "cell_type": "code",
   "execution_count": 128,
   "id": "8992c7e5-72e4-4d32-9f65-d2b33759bf2d",
   "metadata": {},
   "outputs": [],
   "source": [
    "# Storing the grouped monthly spend\n",
    "monthly_spend_list = []\n",
    "\n",
    "for month in months:\n",
    "    filtered_data = loyalty_df[loyalty_df.joining_month == month]\n",
    "    spend_data = filtered_data.groupby('loyalty_years')['spend'].sum().sort_values(ascending=False)\n",
    "    spend_data.name = month \n",
    "    monthly_spend_list.append(spend_data)\n",
    "\n",
    "# Combine all the series into a DataFrame\n",
    "monthly_spend_df = pd.concat(monthly_spend_list, axis=1)"
   ]
  },
  {
   "cell_type": "code",
   "execution_count": 129,
   "id": "a20a546b-c9bd-4634-8222-6a5a60c7998d",
   "metadata": {},
   "outputs": [
    {
     "data": {
      "text/html": [
       "<div>\n",
       "<style scoped>\n",
       "    .dataframe tbody tr th:only-of-type {\n",
       "        vertical-align: middle;\n",
       "    }\n",
       "\n",
       "    .dataframe tbody tr th {\n",
       "        vertical-align: top;\n",
       "    }\n",
       "\n",
       "    .dataframe thead th {\n",
       "        text-align: right;\n",
       "    }\n",
       "</style>\n",
       "<table border=\"1\" class=\"dataframe\">\n",
       "  <thead>\n",
       "    <tr style=\"text-align: right;\">\n",
       "      <th></th>\n",
       "      <th>Jan</th>\n",
       "      <th>Feb</th>\n",
       "      <th>Mar</th>\n",
       "      <th>Apr</th>\n",
       "      <th>May</th>\n",
       "      <th>Jun</th>\n",
       "      <th>Jul</th>\n",
       "      <th>Aug</th>\n",
       "      <th>Sep</th>\n",
       "      <th>Oct</th>\n",
       "      <th>Nov</th>\n",
       "      <th>Dec</th>\n",
       "    </tr>\n",
       "    <tr>\n",
       "      <th>loyalty_years</th>\n",
       "      <th></th>\n",
       "      <th></th>\n",
       "      <th></th>\n",
       "      <th></th>\n",
       "      <th></th>\n",
       "      <th></th>\n",
       "      <th></th>\n",
       "      <th></th>\n",
       "      <th></th>\n",
       "      <th></th>\n",
       "      <th></th>\n",
       "      <th></th>\n",
       "    </tr>\n",
       "  </thead>\n",
       "  <tbody>\n",
       "    <tr>\n",
       "      <th>0-1</th>\n",
       "      <td>10640.86</td>\n",
       "      <td>5764.39</td>\n",
       "      <td>3769.34</td>\n",
       "      <td>4865.59</td>\n",
       "      <td>2695.07</td>\n",
       "      <td>2226.01</td>\n",
       "      <td>2866.19</td>\n",
       "      <td>1825.05</td>\n",
       "      <td>2356.84</td>\n",
       "      <td>730.84</td>\n",
       "      <td>319.07</td>\n",
       "      <td>231.93</td>\n",
       "    </tr>\n",
       "    <tr>\n",
       "      <th>1-3</th>\n",
       "      <td>3940.27</td>\n",
       "      <td>3407.07</td>\n",
       "      <td>3301.88</td>\n",
       "      <td>2025.25</td>\n",
       "      <td>3817.79</td>\n",
       "      <td>1828.13</td>\n",
       "      <td>2596.62</td>\n",
       "      <td>1646.67</td>\n",
       "      <td>1975.38</td>\n",
       "      <td>2104.76</td>\n",
       "      <td>1132.93</td>\n",
       "      <td>269.75</td>\n",
       "    </tr>\n",
       "    <tr>\n",
       "      <th>3-5</th>\n",
       "      <td>2031.13</td>\n",
       "      <td>1582.41</td>\n",
       "      <td>1594.39</td>\n",
       "      <td>1825.26</td>\n",
       "      <td>2673.71</td>\n",
       "      <td>2780.64</td>\n",
       "      <td>3510.16</td>\n",
       "      <td>3542.83</td>\n",
       "      <td>2162.01</td>\n",
       "      <td>3104.29</td>\n",
       "      <td>3155.68</td>\n",
       "      <td>1177.58</td>\n",
       "    </tr>\n",
       "    <tr>\n",
       "      <th>5-10</th>\n",
       "      <td>550.29</td>\n",
       "      <td>1719.39</td>\n",
       "      <td>1065.29</td>\n",
       "      <td>2118.16</td>\n",
       "      <td>2067.01</td>\n",
       "      <td>1642.20</td>\n",
       "      <td>4079.44</td>\n",
       "      <td>3322.03</td>\n",
       "      <td>2754.19</td>\n",
       "      <td>4808.14</td>\n",
       "      <td>2644.66</td>\n",
       "      <td>2401.39</td>\n",
       "    </tr>\n",
       "    <tr>\n",
       "      <th>10+</th>\n",
       "      <td>119.45</td>\n",
       "      <td>228.68</td>\n",
       "      <td>346.15</td>\n",
       "      <td>862.97</td>\n",
       "      <td>839.80</td>\n",
       "      <td>832.24</td>\n",
       "      <td>823.49</td>\n",
       "      <td>803.26</td>\n",
       "      <td>1798.36</td>\n",
       "      <td>2241.45</td>\n",
       "      <td>1941.86</td>\n",
       "      <td>1851.28</td>\n",
       "    </tr>\n",
       "  </tbody>\n",
       "</table>\n",
       "</div>"
      ],
      "text/plain": [
       "                    Jan      Feb      Mar      Apr      May      Jun      Jul  \\\n",
       "loyalty_years                                                                   \n",
       "0-1            10640.86  5764.39  3769.34  4865.59  2695.07  2226.01  2866.19   \n",
       "1-3             3940.27  3407.07  3301.88  2025.25  3817.79  1828.13  2596.62   \n",
       "3-5             2031.13  1582.41  1594.39  1825.26  2673.71  2780.64  3510.16   \n",
       "5-10             550.29  1719.39  1065.29  2118.16  2067.01  1642.20  4079.44   \n",
       "10+              119.45   228.68   346.15   862.97   839.80   832.24   823.49   \n",
       "\n",
       "                   Aug      Sep      Oct      Nov      Dec  \n",
       "loyalty_years                                               \n",
       "0-1            1825.05  2356.84   730.84   319.07   231.93  \n",
       "1-3            1646.67  1975.38  2104.76  1132.93   269.75  \n",
       "3-5            3542.83  2162.01  3104.29  3155.68  1177.58  \n",
       "5-10           3322.03  2754.19  4808.14  2644.66  2401.39  \n",
       "10+             803.26  1798.36  2241.45  1941.86  1851.28  "
      ]
     },
     "execution_count": 129,
     "metadata": {},
     "output_type": "execute_result"
    }
   ],
   "source": [
    "monthly_spend_df"
   ]
  },
  {
   "cell_type": "code",
   "execution_count": 130,
   "id": "c7a8d5a3-8a82-41cb-ac46-472297e27eff",
   "metadata": {},
   "outputs": [
    {
     "data": {
      "image/png": "[encoded data removed]",
      "text/plain": [
       "<Figure size 1200x800 with 1 Axes>"
      ]
     },
     "metadata": {},
     "output_type": "display_data"
    }
   ],
   "source": [
    "#creating a visual to show the relationship between loyalty group and monthly spend in the data\n",
    "monthly_spend_df.plot(kind='bar', figsize=(12, 8), width=0.8, rot=0) #rot=0 to show the x-axis label better.\n",
    "plt.title('Monthly Spend by Loyalty Years')\n",
    "plt.xlabel('Loyalty Years')\n",
    "plt.ylabel('Total Spend')\n",
    "plt.legend(title='Month', bbox_to_anchor=(1.05, 1), loc='upper left') # displaying legend outside the box\n",
    "plt.show()\n"
   ]
  },
  {
   "cell_type": "markdown",
   "id": "749459bf-a62b-456b-8215-1bb865d277f4",
   "metadata": {},
   "source": [
    "#### This clustered column chart shows the relationship between spending, loyalty groups and the month the shoppers joined the loyalty program. For shoppers in the 0-1 and 1-3 groups, they often spent the most in the earlier part of the year, with January recording the highest in these groups. For long-term shoppers, who joined the loyalty program for over 5 years, they tended to spend more towards the end of the year."
   ]
  },
  {
   "cell_type": "code",
   "execution_count": null,
   "id": "6eb156bd-dba8-4fee-a794-0ba5d6ba6437",
   "metadata": {},
   "outputs": [],
   "source": []
  },
  {
   "cell_type": "markdown",
   "id": "05fb3907-ef33-4252-8252-b19544a8665a",
   "metadata": {},
   "source": [
    "### Promotion"
   ]
  },
  {
   "cell_type": "code",
   "execution_count": 133,
   "id": "6bd69780-8e1e-418c-9ce6-3e1985c57e1b",
   "metadata": {},
   "outputs": [
    {
     "data": {
      "text/plain": [
       "promotion\n",
       "No     50.94\n",
       "Yes    49.06\n",
       "Name: proportion, dtype: float64"
      ]
     },
     "execution_count": 133,
     "metadata": {},
     "output_type": "execute_result"
    }
   ],
   "source": [
    "# the average spend and items purchased in the first month by customers who joined as part of a promotion?\n",
    "\n",
    "round (loyalty_df.promotion.value_counts(normalize = True) * 100,2)"
   ]
  },
  {
   "cell_type": "code",
   "execution_count": 134,
   "id": "38f3369e-54b3-4e8c-ac67-ec1dadf0998d",
   "metadata": {},
   "outputs": [
    {
     "data": {
      "image/png": "[encoded data removed]",
      "text/plain": [
       "<Figure size 900x700 with 1 Axes>"
      ]
     },
     "metadata": {},
     "output_type": "display_data"
    }
   ],
   "source": [
    "promotion_percent = loyalty_df.promotion.value_counts(normalize = True)\n",
    "\n",
    "# Creating a visual to see the numver of customers who joined the loyalty program by on-going promotion\n",
    "plt.figure(figsize= (9,7))\n",
    "plt.pie(promotion_percent, labels =promotion_percent.index, autopct = '%1.2f%%')\n",
    "plt.title(\"Subcribed customers based on promotion\")\n",
    "plt.show()"
   ]
  },
  {
   "cell_type": "code",
   "execution_count": 135,
   "id": "0fd02d96-0d04-497e-9575-8316f01d743b",
   "metadata": {},
   "outputs": [
    {
     "data": {
      "text/html": [
       "<div>\n",
       "<style scoped>\n",
       "    .dataframe tbody tr th:only-of-type {\n",
       "        vertical-align: middle;\n",
       "    }\n",
       "\n",
       "    .dataframe tbody tr th {\n",
       "        vertical-align: top;\n",
       "    }\n",
       "\n",
       "    .dataframe thead th {\n",
       "        text-align: right;\n",
       "    }\n",
       "</style>\n",
       "<table border=\"1\" class=\"dataframe\">\n",
       "  <thead>\n",
       "    <tr style=\"text-align: right;\">\n",
       "      <th></th>\n",
       "      <th>spend</th>\n",
       "      <th>first_month</th>\n",
       "      <th>items_in_first_month</th>\n",
       "    </tr>\n",
       "    <tr>\n",
       "      <th>promotion</th>\n",
       "      <th></th>\n",
       "      <th></th>\n",
       "      <th></th>\n",
       "    </tr>\n",
       "  </thead>\n",
       "  <tbody>\n",
       "    <tr>\n",
       "      <th>No</th>\n",
       "      <td>122.96</td>\n",
       "      <td>16.9</td>\n",
       "      <td>9.4</td>\n",
       "    </tr>\n",
       "    <tr>\n",
       "      <th>Yes</th>\n",
       "      <td>122.06</td>\n",
       "      <td>17.4</td>\n",
       "      <td>9.4</td>\n",
       "    </tr>\n",
       "  </tbody>\n",
       "</table>\n",
       "</div>"
      ],
      "text/plain": [
       "            spend  first_month  items_in_first_month\n",
       "promotion                                           \n",
       "No         122.96         16.9                   9.4\n",
       "Yes        122.06         17.4                   9.4"
      ]
     },
     "execution_count": 135,
     "metadata": {},
     "output_type": "execute_result"
    }
   ],
   "source": [
    "round(loyalty_df.groupby(\"promotion\")[[\"spend\", \"first_month\",\"items_in_first_month\"]].mean(),2)"
   ]
  },
  {
   "cell_type": "markdown",
   "id": "4684cbf2-f1dd-480f-b53e-8802c2a565a1",
   "metadata": {},
   "source": [
    "#### The number of shoppers who joined the loyalty program with promotion were identical to those who joined independently. Likewise, both groups had similar averages in total spending, first-month spending, and the number of items purchased during their first month."
   ]
  },
  {
   "cell_type": "code",
   "execution_count": null,
   "id": "66d65887-6ce5-4c65-ba4a-1d4c57e1c574",
   "metadata": {},
   "outputs": [],
   "source": []
  },
  {
   "cell_type": "markdown",
   "id": "f71f53a2-56a6-4ebb-aef9-0e4906a91561",
   "metadata": {},
   "source": [
    "## Insights"
   ]
  },
  {
   "cell_type": "markdown",
   "id": "e6f6e69e-8f93-4719-a8e6-59330870c171",
   "metadata": {},
   "source": [
    "Identifying the top spenders in the last full year can help highlight potentially loyal customers, and providing some extra rewards to such customers will ensure customer engagement, and ultimately long-term loyalty. There is no significant pattern between the number of items purchased and the amount spent by customers on the month they subsribed to the loyalty program with the total amount spent by a customer in the last year at International Essentials. Examining other factors such as loyalty duration, the regions where the supermarkets are located, and the timing of subscriptions to the loyalty program yielded more valuable insights. These insights could help International Essentials prepare for the upcoming year by enhancing rewards, reducing the churn rate of the program, and potentially increasing shopper subscriptions to one or more of the ongoing programs available.\n",
    "\n",
    "**Loyalty years analysis**\n",
    "\n",
    "Grouping shoppers spending habits based on how long they had been subscribed to the loyalty program provided some important information. Collectively, shoppers subsribed for less than a year contributed the higest spending in the last year, followed by those who had been subscribed for 5-10 years, with those part of the loyalty program for over 10 years collectivtely contibuting the least amount. This recorded low spending by customers in the 10+ category is expected because only a few shoppers are expetced to have been patronising the supermarkets chain for that long. To accurately understand the relationship between loyalty years and spending, it makes sense to look at the average spending for each category, which gives us an idea of how much each shopper contributed. According to this average, customers who subscribed to the loyalty program for less than a year spent the least, while those in the 5-10 year category spent the most. Additionally, there were no notable differences in the total and average spending patterns among shoppers who had been part of the loyalty program for 1-5 years.\n",
    "\n",
    "\n",
    "**Regional analysis**\n",
    "\n",
    "While on average, each shopper in these regions contributed to the same amount of spending in the calendar year, supermarkets in Middle East/Africa saw the highest spending, while those in the Asia/Pacific region recorded the lowest. This might be as a result of more supermarkets in Middle East/Africa. When examining spending from shoppers who had been part of the loyalty program for over 5 years—classified as the most loyal customers, contributing about 31% of total customer spending—most of these customers were found in the Middle East/Africa. Europe had the fewest shoppers in this category, although it had the second-highest total regional spending, suggesting a majority of the shoppers in Europe had been subscribed below 5 years. \n",
    "\n",
    "\n",
    "**Monthly analysis**\n",
    "\n",
    "With a significant number of monthly records missing due to an error in data entry (about 10% of the total records), the true patterns across the year and as such realized insights showing the contribution of the month the shoppers subscribed to the lotalty program to the total spending in the last full year, might be slightly skewed.\n",
    "  However, based on the exisiting correct records, customers who joined the loyalty program in January recorded the highest amount of total spending, with the lowest values occurring in November and then December, expected since they joined towards the end of the year.  This is not surprising as the customers had fewer months to spend compared to others. Investigating the first month spending and number of items purchased when the shoppers subscribed to the loyalty program, most shoppers spent the most when they subscribed in January. While there was a rapid spike in the number of items purchased in October, it did not reflect on the spending in the same month, and the subsequent months.\n",
    "  Exploring the relationship between months and loyalty years, it was observed that shoppers part of the loyalty program below 3 years did alot of spending in the earlier months of the year whereas customers who had been in the program for above 5 years had most of their spending in the latter parts of the year. \n",
    "\n",
    "\n",
    "**Exisitng promotion analysis**\n",
    "\n",
    "As observed from the database, several shoppers joined the loyalty program as part of a promotion by International Essentials. However, no significance was observed based on this accounted for only about 49% of the customers, compared to those that joined without the attached promotion offered. The average spend and number of items purchased by shoppers who joined the loyalty program due to promotion was relatively similar to those that joined without the offered promotion. "
   ]
  },
  {
   "cell_type": "code",
   "execution_count": null,
   "id": "fb951441-a842-45e0-b0e0-a664498185e4",
   "metadata": {},
   "outputs": [],
   "source": []
  },
  {
   "cell_type": "markdown",
   "id": "75d53104-e1f4-40df-af31-5acb790a6463",
   "metadata": {},
   "source": [
    "## Conclusion"
   ]
  },
  {
   "cell_type": "markdown",
   "id": "35e65ebc-b29a-4a42-b779-65f9ec954498",
   "metadata": {},
   "source": [
    "Rewarding shoppers for their annual spending and loyalty to supermarkets is definitely a great way to increase customer engagement/satisfaction, which is often linked with profitability for businesses. The reward system for International Essentials seem to improve as the shoppers remain in the loyalty years for long. Offering additional rewards and promotions in the Middle East/Africa could be crucial, as majority of the most loyal customers, who have been part of the loyalty program for over 5 years are in this region.\n",
    " To increase spending towards the end of the year in subsequent years, especially by new to short-term subscribers, the loyalty program could be structured in a way to ensure that shoppers who joined the loyalty program later in the year also have some potential rewards based on other factors asides spending. Lastly, the promotion organised to ensure subscription to the loyalty group did not yield any positive outcome, and this should be revisited as it might provide an opportunity in the long-term to increase the number of shoppers resgistered to the program.\n",
    " "
   ]
  }
 ],
 "metadata": {
  "kernelspec": {
   "display_name": "Python 3 (ipykernel)",
   "language": "python",
   "name": "python3"
  },
  "language_info": {
   "codemirror_mode": {
    "name": "ipython",
    "version": 3
   },
   "file_extension": ".py",
   "mimetype": "text/x-python",
   "name": "python",
   "nbconvert_exporter": "python",
   "pygments_lexer": "ipython3",
   "version": "3.12.4"
  }
 },
 "nbformat": 4,
 "nbformat_minor": 5
}
